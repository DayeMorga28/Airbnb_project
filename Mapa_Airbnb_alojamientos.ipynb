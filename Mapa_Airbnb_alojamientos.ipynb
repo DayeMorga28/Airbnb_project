{
 "cells": [
  {
   "cell_type": "code",
   "execution_count": null,
   "id": "pediatric-sweet",
   "metadata": {},
   "outputs": [],
   "source": [
    "##################################################################################\n",
    "#                               A I R B N B                                      #\n",
    "#                                                                                #\n",
    "#                      Análisis de datos exploratorio                            #\n",
    "##################################################################################"
   ]
  },
  {
   "cell_type": "code",
   "execution_count": null,
   "id": "rough-interest",
   "metadata": {},
   "outputs": [],
   "source": [
    "# Carga de librerias\n",
    "import pandas as pd\n",
    "import seaborn as sns\n",
    "import matplotlib.pyplot as plt\n",
    "import folium"
   ]
  },
  {
   "cell_type": "code",
   "execution_count": null,
   "id": "stone-election",
   "metadata": {},
   "outputs": [],
   "source": [
    "df_alojamientos_clean = pd.read_csv('alojamientos_limpio.csv', index_col=0)\n",
    "df_alojamientos_clean.head()"
   ]
  },
  {
   "cell_type": "code",
   "execution_count": null,
   "id": "informed-click",
   "metadata": {},
   "outputs": [],
   "source": [
    "df_alojamientos_clean.columns"
   ]
  },
  {
   "cell_type": "markdown",
   "id": "junior-vertex",
   "metadata": {},
   "source": [
    "# Mapa Roma"
   ]
  },
  {
   "cell_type": "code",
   "execution_count": null,
   "id": "north-challenge",
   "metadata": {},
   "outputs": [],
   "source": [
    "#Se crea el dataset para Roma\n",
    "df_alojamientos_filtrado_rome = df_alojamientos_clean.loc[df_alojamientos_clean['ciudad'] == 'Rome']\n",
    "df_alojamientos_filtrado_rome.shape"
   ]
  },
  {
   "cell_type": "code",
   "execution_count": null,
   "id": "complex-relation",
   "metadata": {},
   "outputs": [],
   "source": [
    "mapa_roma = folium.Map(location=[41.8905, 12.4942], zoom_start=15)"
   ]
  },
  {
   "cell_type": "code",
   "execution_count": null,
   "id": "right-appliance",
   "metadata": {},
   "outputs": [],
   "source": [
    "# agregan puntos para visualizar los viajes\n",
    "for lat, lng in zip(df_alojamientos_filtrado_rome['latitud'], df_alojamientos_filtrado_rome['longitud']):\n",
    "    \n",
    "    folium.CircleMarker(\n",
    "        [lat, lng],\n",
    "        radius=2,\n",
    "        data=df_alojamientos_filtrado_rome,\n",
    "        columns=['id_alojamiento'],\n",
    "        key_on='id_alojamiento',\n",
    "        tooltip = df_alojamientos_filtrado_rome[['ciudad', 'superanfitrion']],\n",
    "        fill=True,\n",
    "        fill_color='prism',\n",
    "        fill_opacity=0.7,\n",
    "        parse_html=False,\n",
    "        legend_name='Distribucion de alojamientos Roma').add_to(mapa_roma)  \n",
    "    \n",
    "mapa_roma"
   ]
  },
  {
   "cell_type": "markdown",
   "id": "absolute-selection",
   "metadata": {},
   "source": [
    "# Mapa Paris"
   ]
  },
  {
   "cell_type": "code",
   "execution_count": null,
   "id": "forty-classic",
   "metadata": {},
   "outputs": [],
   "source": [
    "#Se crea el dataframe para Paris\n",
    "df_alojamientos_filtrado_paris = df_alojamientos_clean.loc[df_alojamientos_clean['ciudad'] == 'Paris']\n",
    "df_alojamientos_filtrado_paris.shape"
   ]
  },
  {
   "cell_type": "code",
   "execution_count": null,
   "id": "statistical-medline",
   "metadata": {},
   "outputs": [],
   "source": [
    "mapa_paris = folium.Map(location=[48.85341, 2.3488], zoom_start=15)"
   ]
  },
  {
   "cell_type": "code",
   "execution_count": null,
   "id": "asian-words",
   "metadata": {},
   "outputs": [],
   "source": [
    "# agregan puntos para visualizar los viajes\n",
    "for lat, lng in zip(df_alojamientos_filtrado_paris['latitud'], df_alojamientos_filtrado_paris['longitud']):\n",
    "    \n",
    "    folium.CircleMarker(\n",
    "        [lat, lng],\n",
    "        radius=2,\n",
    "        data=df_alojamientos_filtrado_paris,\n",
    "        columns=['id_alojamiento'],\n",
    "        key_on='id_alojamiento',\n",
    "        tooltip = df_alojamientos_filtrado_paris[['ciudad', 'superanfitrion']],\n",
    "        fill=True,\n",
    "        fill_color='prism',\n",
    "        fill_opacity=0.7,\n",
    "        parse_html=False,\n",
    "        legend_name='Distribucion de alojamientos Paris').add_to(mapa_paris)  \n",
    "    \n",
    "mapa_paris"
   ]
  },
  {
   "cell_type": "markdown",
   "id": "certain-jacket",
   "metadata": {},
   "source": [
    "# Mapa Nueva York"
   ]
  },
  {
   "cell_type": "code",
   "execution_count": null,
   "id": "hundred-venue",
   "metadata": {},
   "outputs": [],
   "source": [
    "#Se crea el dataframe para New York\n",
    "df_alojamientos_filtrado_newyork = df_alojamientos_clean.loc[df_alojamientos_clean['ciudad'] == 'New York']\n",
    "df_alojamientos_filtrado_newyork.shape"
   ]
  },
  {
   "cell_type": "code",
   "execution_count": null,
   "id": "blind-brooks",
   "metadata": {},
   "outputs": [],
   "source": [
    "mapa_new_york = folium.Map(location=[40.7128, -74.0060], zoom_start=10)"
   ]
  },
  {
   "cell_type": "code",
   "execution_count": null,
   "id": "early-indian",
   "metadata": {},
   "outputs": [],
   "source": [
    "# agregan puntos para visualizar los viajes\n",
    "for lat, lng in zip(df_alojamientos_filtrado_newyork['latitud'], df_alojamientos_filtrado_newyork['longitud']):\n",
    "    \n",
    "    folium.CircleMarker(\n",
    "        [lat, lng],\n",
    "        radius=2,\n",
    "        data=df_alojamientos_filtrado_newyork,\n",
    "        columns=['id_alojamiento'],\n",
    "        key_on='id_alojamiento',\n",
    "        tooltip = df_alojamientos_filtrado_newyork[['ciudad', 'superanfitrion']],\n",
    "        fill=True,\n",
    "        fill_color='prism',\n",
    "        fill_opacity=0.7,\n",
    "        parse_html=False,\n",
    "        legend_name='Distribucion de alojamientos Nueva York').add_to(mapa_new_york)  \n",
    "    \n",
    "mapa_new_york"
   ]
  },
  {
   "cell_type": "markdown",
   "id": "protective-reminder",
   "metadata": {},
   "source": [
    "# Mapa Ciudad de México"
   ]
  },
  {
   "cell_type": "code",
   "execution_count": null,
   "id": "gross-consortium",
   "metadata": {},
   "outputs": [],
   "source": [
    "#Se crea el dataframe para Mexico City\n",
    "df_alojamientos_filtrado_mexico = df_alojamientos_clean.loc[df_alojamientos_clean['ciudad'] == 'Mexico City']\n",
    "df_alojamientos_filtrado_mexico.shape"
   ]
  },
  {
   "cell_type": "code",
   "execution_count": null,
   "id": "sublime-mining",
   "metadata": {},
   "outputs": [],
   "source": [
    "mapa_cdmx = folium.Map(location=[19.4978, -99.1269], zoom_start=10)"
   ]
  },
  {
   "cell_type": "code",
   "execution_count": null,
   "id": "synthetic-democracy",
   "metadata": {},
   "outputs": [],
   "source": [
    "# agregan puntos para visualizar los viajes\n",
    "for lat, lng in zip(df_alojamientos_filtrado_mexico['latitud'], df_alojamientos_filtrado_mexico['longitud']):\n",
    "    \n",
    "    folium.CircleMarker(\n",
    "        [lat, lng],\n",
    "        radius=2,\n",
    "        data=df_alojamientos_filtrado_mexico,\n",
    "        columns=['id_alojamiento'],\n",
    "        key_on='id_alojamiento',\n",
    "        tooltip = df_alojamientos_filtrado_mexico[['ciudad', 'superanfitrion']],\n",
    "        fill=True,\n",
    "        fill_color='prism',\n",
    "        fill_opacity=0.7,\n",
    "        parse_html=False,\n",
    "        legend_name='Distribucion de alojamientos CdMx').add_to(mapa_cdmx)  \n",
    "    \n",
    "mapa_cdmx"
   ]
  },
  {
   "cell_type": "markdown",
   "id": "revolutionary-employer",
   "metadata": {},
   "source": [
    "# Mapa Sydney"
   ]
  },
  {
   "cell_type": "code",
   "execution_count": null,
   "id": "excited-compiler",
   "metadata": {},
   "outputs": [],
   "source": [
    "#Se crea el dataframe para Sydney\n",
    "df_alojamientos_filtrado_sydney = df_alojamientos_clean.loc[df_alojamientos_clean['ciudad'] == 'Sydney']\n",
    "df_alojamientos_filtrado_sydney.shape"
   ]
  },
  {
   "cell_type": "code",
   "execution_count": null,
   "id": "connected-experiment",
   "metadata": {},
   "outputs": [],
   "source": [
    "mapa_sydney = folium.Map(location=[-33.8667, 151.2], zoom_start=10)"
   ]
  },
  {
   "cell_type": "code",
   "execution_count": null,
   "id": "incomplete-junior",
   "metadata": {},
   "outputs": [],
   "source": [
    "# agregan puntos para visualizar los viajes\n",
    "for lat, lng in zip(df_alojamientos_filtrado_sydney['latitud'], df_alojamientos_filtrado_sydney['longitud']):\n",
    "    \n",
    "    folium.CircleMarker(\n",
    "        [lat, lng],\n",
    "        radius=2,\n",
    "        data=df_alojamientos_filtrado_sydney,\n",
    "        columns=['id_alojamiento'],\n",
    "        key_on='id_alojamiento',\n",
    "        tooltip = df_alojamientos_filtrado_sydney[['ciudad', 'superanfitrion']],\n",
    "        fill=True,\n",
    "        fill_color='prism',\n",
    "        fill_opacity=0.7,\n",
    "        parse_html=False,\n",
    "        legend_name='Distribucion de alojamientos Sydney').add_to(mapa_sydney)  \n",
    "    \n",
    "mapa_sydney"
   ]
  },
  {
   "cell_type": "markdown",
   "id": "hundred-attendance",
   "metadata": {},
   "source": [
    "# Mapa Rio de Janeiro"
   ]
  },
  {
   "cell_type": "code",
   "execution_count": null,
   "id": "manufactured-reasoning",
   "metadata": {},
   "outputs": [],
   "source": [
    "#Se crea el dataframe para Rio de Janeiro\n",
    "df_alojamientos_filtrado_rio = df_alojamientos_clean.loc[df_alojamientos_clean['ciudad'] == 'Rio de Janeiro']\n",
    "df_alojamientos_filtrado_rio.shape"
   ]
  },
  {
   "cell_type": "code",
   "execution_count": null,
   "id": "secret-macedonia",
   "metadata": {},
   "outputs": [],
   "source": [
    "mapa_rio_jan = folium.Map(location=[-22.9035, -43.2096], zoom_start=10)"
   ]
  },
  {
   "cell_type": "code",
   "execution_count": null,
   "id": "partial-treatment",
   "metadata": {},
   "outputs": [],
   "source": [
    "# agregan puntos para visualizar los viajes\n",
    "for lat, lng in zip(df_alojamientos_filtrado_rio['latitud'], df_alojamientos_filtrado_rio['longitud']):\n",
    "    \n",
    "    folium.CircleMarker(\n",
    "        [lat, lng],\n",
    "        radius=2,\n",
    "        data=df_alojamientos_filtrado_rio,\n",
    "        columns=['id_alojamiento'],\n",
    "        key_on='id_alojamiento',\n",
    "        tooltip = df_alojamientos_filtrado_rio[['ciudad', 'superanfitrion']],\n",
    "        fill=True,\n",
    "        fill_color='prism',\n",
    "        fill_opacity=0.7,\n",
    "        parse_html=False,\n",
    "        legend_name='Distribucion de alojamientos Rio de Janeiro').add_to(mapa_rio_jan)  \n",
    "    \n",
    "mapa_rio_jan"
   ]
  },
  {
   "cell_type": "markdown",
   "id": "opponent-pierce",
   "metadata": {},
   "source": [
    "# Mapa Cape Town"
   ]
  },
  {
   "cell_type": "code",
   "execution_count": null,
   "id": "intense-wings",
   "metadata": {},
   "outputs": [],
   "source": [
    "#Se crea el dataframe para Cape Town\n",
    "df_alojamientos_filtrado_capetown = df_alojamientos_clean.loc[df_alojamientos_clean['ciudad'] == 'Cape Town']\n",
    "df_alojamientos_filtrado_capetown.shape"
   ]
  },
  {
   "cell_type": "code",
   "execution_count": null,
   "id": "aware-concern",
   "metadata": {},
   "outputs": [],
   "source": [
    "mapa_capetown = folium.Map(location=[-33.916667, 18.416667], zoom_start=10)"
   ]
  },
  {
   "cell_type": "code",
   "execution_count": null,
   "id": "parallel-wisconsin",
   "metadata": {},
   "outputs": [],
   "source": [
    "# agregan puntos para visualizar los viajes\n",
    "for lat, lng in zip(df_alojamientos_filtrado_capetown['latitud'], df_alojamientos_filtrado_capetown['longitud']):\n",
    "    \n",
    "    folium.CircleMarker(\n",
    "        [lat, lng],\n",
    "        radius=2,\n",
    "        data=df_alojamientos_filtrado_capetown,\n",
    "        columns=['id_alojamiento'],\n",
    "        key_on='id_alojamiento',\n",
    "        tooltip = df_alojamientos_filtrado_capetown[['ciudad', 'superanfitrion']],\n",
    "        fill=True,\n",
    "        fill_color='prism',\n",
    "        fill_opacity=0.7,\n",
    "        parse_html=False,\n",
    "        legend_name='Distribucion de alojamientos Ciudad del Cabo Sudáfrica').add_to(mapa_capetown)  \n",
    "    \n",
    "mapa_capetown"
   ]
  },
  {
   "cell_type": "markdown",
   "id": "naughty-peter",
   "metadata": {},
   "source": [
    "# Mapa Bangkok"
   ]
  },
  {
   "cell_type": "code",
   "execution_count": null,
   "id": "loose-upgrade",
   "metadata": {},
   "outputs": [],
   "source": [
    "#Se crea el dataframe para Bangkok\n",
    "df_alojamientos_filtrado_bangkok = df_alojamientos_clean.loc[df_alojamientos_clean['ciudad'] == 'Bangkok']\n",
    "df_alojamientos_filtrado_bangkok.shape"
   ]
  },
  {
   "cell_type": "code",
   "execution_count": null,
   "id": "rental-daily",
   "metadata": {},
   "outputs": [],
   "source": [
    "mapa_bangkok = folium.Map(location=[13.7522, 100.494], zoom_start=10)"
   ]
  },
  {
   "cell_type": "code",
   "execution_count": null,
   "id": "veterinary-cookie",
   "metadata": {},
   "outputs": [],
   "source": [
    "# agregan puntos para visualizar los viajes\n",
    "for lat, lng in zip(df_alojamientos_filtrado_bangkok['latitud'], df_alojamientos_filtrado_bangkok['longitud']):\n",
    "    \n",
    "    folium.CircleMarker(\n",
    "        [lat, lng],\n",
    "        radius=2,\n",
    "        data=df_alojamientos_filtrado_bangkok,\n",
    "        columns=['id_alojamiento'],\n",
    "        key_on='id_alojamiento',\n",
    "        tooltip = df_alojamientos_filtrado_bangkok[['ciudad', 'superanfitrion']],\n",
    "        fill=True,\n",
    "        fill_color='prism',\n",
    "        fill_opacity=0.7,\n",
    "        parse_html=False,\n",
    "        legend_name='Distribucion de alojamientos Bangkok').add_to(mapa_bangkok)  \n",
    "    \n",
    "mapa_bangkok"
   ]
  },
  {
   "cell_type": "markdown",
   "id": "concrete-frederick",
   "metadata": {},
   "source": [
    "# Mapa Istanbul"
   ]
  },
  {
   "cell_type": "code",
   "execution_count": null,
   "id": "motivated-report",
   "metadata": {},
   "outputs": [],
   "source": [
    "#Se crea el dataframe para Istanbul\n",
    "df_alojamientos_filtrado_istanbul = df_alojamientos_clean.loc[df_alojamientos_clean['ciudad'] == 'Istanbul']\n",
    "df_alojamientos_filtrado_istanbul.shape"
   ]
  },
  {
   "cell_type": "code",
   "execution_count": null,
   "id": "atmospheric-norway",
   "metadata": {},
   "outputs": [],
   "source": [
    "mapa_istanbul = folium.Map(location=[41.0122,  28.976], zoom_start=10)"
   ]
  },
  {
   "cell_type": "code",
   "execution_count": null,
   "id": "ordered-theta",
   "metadata": {},
   "outputs": [],
   "source": [
    "# agregan puntos para visualizar los viajes\n",
    "for lat, lng in zip(df_alojamientos_filtrado_istanbul['latitud'], df_alojamientos_filtrado_istanbul['longitud']):\n",
    "    \n",
    "    folium.CircleMarker(\n",
    "        [lat, lng],\n",
    "        radius=2,\n",
    "        data=df_alojamientos_filtrado_istanbul,\n",
    "        columns=['id_alojamiento'],\n",
    "        key_on='id_alojamiento',\n",
    "        tooltip = df_alojamientos_filtrado_istanbul[['ciudad', 'superanfitrion']],\n",
    "        fill=True,\n",
    "        fill_color='prism',\n",
    "        fill_opacity=0.7,\n",
    "        parse_html=False,\n",
    "        legend_name='Distribucion de alojamientos Estambul').add_to(mapa_istanbul)  \n",
    "    \n",
    "mapa_istanbul"
   ]
  },
  {
   "cell_type": "markdown",
   "id": "indoor-vampire",
   "metadata": {},
   "source": [
    "# Mapa Hong Kong"
   ]
  },
  {
   "cell_type": "code",
   "execution_count": null,
   "id": "korean-battery",
   "metadata": {},
   "outputs": [],
   "source": [
    "#Se crea el dataframe para Hong Kong\n",
    "df_alojamientos_filtrado_hong = df_alojamientos_clean.loc[df_alojamientos_clean['ciudad'] == 'Hong Kong']\n",
    "df_alojamientos_filtrado_hong.shape"
   ]
  },
  {
   "cell_type": "code",
   "execution_count": null,
   "id": "quick-karen",
   "metadata": {},
   "outputs": [],
   "source": [
    "mapa_hongkong = folium.Map(location=[22.2065, 114.159], zoom_start=10)"
   ]
  },
  {
   "cell_type": "code",
   "execution_count": null,
   "id": "golden-seating",
   "metadata": {},
   "outputs": [],
   "source": [
    "# agregan puntos para visualizar los viajes\n",
    "for lat, lng in zip(df_alojamientos_filtrado_hong['latitud'], df_alojamientos_filtrado_hong['longitud']):\n",
    "    \n",
    "    folium.CircleMarker(\n",
    "        [lat, lng],\n",
    "        radius=2,\n",
    "        data=df_alojamientos_filtrado_hong,\n",
    "        columns=['id_alojamiento'],\n",
    "        key_on='id_alojamiento',\n",
    "        tooltip = df_alojamientos_filtrado_hong[['ciudad', 'superanfitrion']],\n",
    "        fill=True,\n",
    "        fill_color='prism',\n",
    "        fill_opacity=0.7,\n",
    "        parse_html=False,\n",
    "        legend_name='Distribucion de alojamientos Hong Kong').add_to(mapa_hongkong)  \n",
    "    \n",
    "mapa_hongkong"
   ]
  },
  {
   "cell_type": "markdown",
   "id": "noticed-rebel",
   "metadata": {},
   "source": [
    "# Mapa General"
   ]
  },
  {
   "cell_type": "code",
   "execution_count": null,
   "id": "exotic-found",
   "metadata": {},
   "outputs": [],
   "source": [
    "mapa_alojamientos = folium.Map(zoom_start=15)"
   ]
  },
  {
   "cell_type": "code",
   "execution_count": null,
   "id": "entitled-klein",
   "metadata": {},
   "outputs": [],
   "source": [
    "# agregan puntos para visualizar los viajes\n",
    "for lat, lng in zip(df_alojamientos_clean['latitud'], df_alojamientos_clean['longitud']):\n",
    "    \n",
    "    folium.CircleMarker(\n",
    "        [lat, lng],\n",
    "        radius=2,\n",
    "        data=df_alojamientos_clean,\n",
    "        columns=['id_alojamiento'],\n",
    "        key_on='id_alojamiento',\n",
    "        tooltip = df_alojamientos_clean['ciudad'],\n",
    "        fill=True,\n",
    "        fill_color='prism',\n",
    "        fill_opacity=0.7,\n",
    "        parse_html=False,\n",
    "        legend_name='Distribucion munidal de alojamientos Airbnb').add_to(mapa_alojamientos)  \n",
    "    \n",
    "mapa_alojamientos"
   ]
  },
  {
   "cell_type": "code",
   "execution_count": null,
   "id": "instrumental-beaver",
   "metadata": {},
   "outputs": [],
   "source": []
  },
  {
   "cell_type": "code",
   "execution_count": null,
   "id": "floral-alloy",
   "metadata": {},
   "outputs": [],
   "source": []
  },
  {
   "cell_type": "code",
   "execution_count": null,
   "id": "wicked-portsmouth",
   "metadata": {},
   "outputs": [],
   "source": []
  }
 ],
 "metadata": {
  "kernelspec": {
   "display_name": "Python 3",
   "language": "python",
   "name": "python3"
  },
  "language_info": {
   "codemirror_mode": {
    "name": "ipython",
    "version": 3
   },
   "file_extension": ".py",
   "mimetype": "text/x-python",
   "name": "python",
   "nbconvert_exporter": "python",
   "pygments_lexer": "ipython3",
   "version": "3.9.2"
  }
 },
 "nbformat": 4,
 "nbformat_minor": 5
}
