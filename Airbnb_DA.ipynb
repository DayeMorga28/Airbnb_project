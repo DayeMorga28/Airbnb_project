{
 "cells": [
  {
   "cell_type": "code",
   "execution_count": 1,
   "id": "agricultural-buddy",
   "metadata": {},
   "outputs": [],
   "source": [
    "##################################################################################\n",
    "#                               A I R B N B                                      #\n",
    "#                                                                                #\n",
    "#                      Análisis de datos exploratorio                            #\n",
    "##################################################################################"
   ]
  },
  {
   "cell_type": "code",
   "execution_count": 4,
   "id": "catholic-western",
   "metadata": {},
   "outputs": [],
   "source": [
    "# Carga de librerias\n",
    "import pandas as pd\n",
    "import numpy as np"
   ]
  },
  {
   "cell_type": "code",
   "execution_count": 5,
   "id": "manufactured-flash",
   "metadata": {},
   "outputs": [],
   "source": [
    "df_comentarios = pd.read_csv('Reviews.csv')"
   ]
  },
  {
   "cell_type": "code",
   "execution_count": 6,
   "id": "sixth-decline",
   "metadata": {},
   "outputs": [
    {
     "data": {
      "text/html": [
       "<div>\n",
       "<style scoped>\n",
       "    .dataframe tbody tr th:only-of-type {\n",
       "        vertical-align: middle;\n",
       "    }\n",
       "\n",
       "    .dataframe tbody tr th {\n",
       "        vertical-align: top;\n",
       "    }\n",
       "\n",
       "    .dataframe thead th {\n",
       "        text-align: right;\n",
       "    }\n",
       "</style>\n",
       "<table border=\"1\" class=\"dataframe\">\n",
       "  <thead>\n",
       "    <tr style=\"text-align: right;\">\n",
       "      <th></th>\n",
       "      <th>listing_id</th>\n",
       "      <th>review_id</th>\n",
       "      <th>date</th>\n",
       "      <th>reviewer_id</th>\n",
       "    </tr>\n",
       "  </thead>\n",
       "  <tbody>\n",
       "    <tr>\n",
       "      <th>0</th>\n",
       "      <td>11798</td>\n",
       "      <td>330265172</td>\n",
       "      <td>2018-09-30</td>\n",
       "      <td>11863072</td>\n",
       "    </tr>\n",
       "    <tr>\n",
       "      <th>1</th>\n",
       "      <td>15383</td>\n",
       "      <td>330103585</td>\n",
       "      <td>2018-09-30</td>\n",
       "      <td>39147453</td>\n",
       "    </tr>\n",
       "    <tr>\n",
       "      <th>2</th>\n",
       "      <td>16455</td>\n",
       "      <td>329985788</td>\n",
       "      <td>2018-09-30</td>\n",
       "      <td>1125378</td>\n",
       "    </tr>\n",
       "    <tr>\n",
       "      <th>3</th>\n",
       "      <td>17919</td>\n",
       "      <td>330016899</td>\n",
       "      <td>2018-09-30</td>\n",
       "      <td>172717984</td>\n",
       "    </tr>\n",
       "    <tr>\n",
       "      <th>4</th>\n",
       "      <td>26827</td>\n",
       "      <td>329995638</td>\n",
       "      <td>2018-09-30</td>\n",
       "      <td>17542859</td>\n",
       "    </tr>\n",
       "  </tbody>\n",
       "</table>\n",
       "</div>"
      ],
      "text/plain": [
       "   listing_id  review_id        date  reviewer_id\n",
       "0       11798  330265172  2018-09-30     11863072\n",
       "1       15383  330103585  2018-09-30     39147453\n",
       "2       16455  329985788  2018-09-30      1125378\n",
       "3       17919  330016899  2018-09-30    172717984\n",
       "4       26827  329995638  2018-09-30     17542859"
      ]
     },
     "execution_count": 6,
     "metadata": {},
     "output_type": "execute_result"
    }
   ],
   "source": [
    "df_comentarios.head()"
   ]
  },
  {
   "cell_type": "code",
   "execution_count": 7,
   "id": "novel-disclosure",
   "metadata": {},
   "outputs": [
    {
     "data": {
      "text/plain": [
       "listing_id      int64\n",
       "review_id       int64\n",
       "date           object\n",
       "reviewer_id     int64\n",
       "dtype: object"
      ]
     },
     "execution_count": 7,
     "metadata": {},
     "output_type": "execute_result"
    }
   ],
   "source": [
    "df_comentarios.dtypes"
   ]
  },
  {
   "cell_type": "code",
   "execution_count": 8,
   "id": "functional-genre",
   "metadata": {},
   "outputs": [],
   "source": [
    "# Renombrando columnas\n",
    "column_name_mapping = {\n",
    "    'listing_id' : 'id_alojamiento',\n",
    "    'review_id'  : 'id_comentario',\n",
    "    'date'       : 'Fecha',\n",
    "    'reviewer_id': 'id_usuario_comenta'\n",
    "}"
   ]
  },
  {
   "cell_type": "code",
   "execution_count": 9,
   "id": "becoming-quest",
   "metadata": {},
   "outputs": [
    {
     "data": {
      "text/html": [
       "<div>\n",
       "<style scoped>\n",
       "    .dataframe tbody tr th:only-of-type {\n",
       "        vertical-align: middle;\n",
       "    }\n",
       "\n",
       "    .dataframe tbody tr th {\n",
       "        vertical-align: top;\n",
       "    }\n",
       "\n",
       "    .dataframe thead th {\n",
       "        text-align: right;\n",
       "    }\n",
       "</style>\n",
       "<table border=\"1\" class=\"dataframe\">\n",
       "  <thead>\n",
       "    <tr style=\"text-align: right;\">\n",
       "      <th></th>\n",
       "      <th>id_alojamiento</th>\n",
       "      <th>id_comentario</th>\n",
       "      <th>Fecha</th>\n",
       "      <th>id_usuario_comenta</th>\n",
       "    </tr>\n",
       "  </thead>\n",
       "  <tbody>\n",
       "    <tr>\n",
       "      <th>0</th>\n",
       "      <td>11798</td>\n",
       "      <td>330265172</td>\n",
       "      <td>2018-09-30</td>\n",
       "      <td>11863072</td>\n",
       "    </tr>\n",
       "    <tr>\n",
       "      <th>1</th>\n",
       "      <td>15383</td>\n",
       "      <td>330103585</td>\n",
       "      <td>2018-09-30</td>\n",
       "      <td>39147453</td>\n",
       "    </tr>\n",
       "    <tr>\n",
       "      <th>2</th>\n",
       "      <td>16455</td>\n",
       "      <td>329985788</td>\n",
       "      <td>2018-09-30</td>\n",
       "      <td>1125378</td>\n",
       "    </tr>\n",
       "    <tr>\n",
       "      <th>3</th>\n",
       "      <td>17919</td>\n",
       "      <td>330016899</td>\n",
       "      <td>2018-09-30</td>\n",
       "      <td>172717984</td>\n",
       "    </tr>\n",
       "    <tr>\n",
       "      <th>4</th>\n",
       "      <td>26827</td>\n",
       "      <td>329995638</td>\n",
       "      <td>2018-09-30</td>\n",
       "      <td>17542859</td>\n",
       "    </tr>\n",
       "  </tbody>\n",
       "</table>\n",
       "</div>"
      ],
      "text/plain": [
       "   id_alojamiento  id_comentario       Fecha  id_usuario_comenta\n",
       "0           11798      330265172  2018-09-30            11863072\n",
       "1           15383      330103585  2018-09-30            39147453\n",
       "2           16455      329985788  2018-09-30             1125378\n",
       "3           17919      330016899  2018-09-30           172717984\n",
       "4           26827      329995638  2018-09-30            17542859"
      ]
     },
     "execution_count": 9,
     "metadata": {},
     "output_type": "execute_result"
    }
   ],
   "source": [
    "df_comentarios_renamed = df_comentarios.rename(columns=column_name_mapping)\n",
    "df_comentarios_renamed.head()"
   ]
  },
  {
   "cell_type": "code",
   "execution_count": 10,
   "id": "vietnamese-shuttle",
   "metadata": {},
   "outputs": [],
   "source": [
    "# Cambio el tipo de dato de object a datetime\n",
    "df_comentarios_renamed['Fecha'] = pd.to_datetime(df_comentarios_renamed['Fecha'])"
   ]
  },
  {
   "cell_type": "code",
   "execution_count": 11,
   "id": "sunset-cleaners",
   "metadata": {},
   "outputs": [
    {
     "data": {
      "text/html": [
       "<div>\n",
       "<style scoped>\n",
       "    .dataframe tbody tr th:only-of-type {\n",
       "        vertical-align: middle;\n",
       "    }\n",
       "\n",
       "    .dataframe tbody tr th {\n",
       "        vertical-align: top;\n",
       "    }\n",
       "\n",
       "    .dataframe thead th {\n",
       "        text-align: right;\n",
       "    }\n",
       "</style>\n",
       "<table border=\"1\" class=\"dataframe\">\n",
       "  <thead>\n",
       "    <tr style=\"text-align: right;\">\n",
       "      <th></th>\n",
       "      <th>id_alojamiento</th>\n",
       "      <th>id_comentario</th>\n",
       "      <th>Fecha</th>\n",
       "      <th>id_usuario_comenta</th>\n",
       "    </tr>\n",
       "  </thead>\n",
       "  <tbody>\n",
       "    <tr>\n",
       "      <th>0</th>\n",
       "      <td>11798</td>\n",
       "      <td>330265172</td>\n",
       "      <td>2018-09-30</td>\n",
       "      <td>11863072</td>\n",
       "    </tr>\n",
       "    <tr>\n",
       "      <th>1</th>\n",
       "      <td>15383</td>\n",
       "      <td>330103585</td>\n",
       "      <td>2018-09-30</td>\n",
       "      <td>39147453</td>\n",
       "    </tr>\n",
       "    <tr>\n",
       "      <th>2</th>\n",
       "      <td>16455</td>\n",
       "      <td>329985788</td>\n",
       "      <td>2018-09-30</td>\n",
       "      <td>1125378</td>\n",
       "    </tr>\n",
       "    <tr>\n",
       "      <th>3</th>\n",
       "      <td>17919</td>\n",
       "      <td>330016899</td>\n",
       "      <td>2018-09-30</td>\n",
       "      <td>172717984</td>\n",
       "    </tr>\n",
       "    <tr>\n",
       "      <th>4</th>\n",
       "      <td>26827</td>\n",
       "      <td>329995638</td>\n",
       "      <td>2018-09-30</td>\n",
       "      <td>17542859</td>\n",
       "    </tr>\n",
       "  </tbody>\n",
       "</table>\n",
       "</div>"
      ],
      "text/plain": [
       "   id_alojamiento  id_comentario      Fecha  id_usuario_comenta\n",
       "0           11798      330265172 2018-09-30            11863072\n",
       "1           15383      330103585 2018-09-30            39147453\n",
       "2           16455      329985788 2018-09-30             1125378\n",
       "3           17919      330016899 2018-09-30           172717984\n",
       "4           26827      329995638 2018-09-30            17542859"
      ]
     },
     "execution_count": 11,
     "metadata": {},
     "output_type": "execute_result"
    }
   ],
   "source": [
    "df_comentarios_renamed.head()"
   ]
  },
  {
   "cell_type": "code",
   "execution_count": 12,
   "id": "hairy-gallery",
   "metadata": {},
   "outputs": [
    {
     "data": {
      "text/plain": [
       "id_alojamiento                 int64\n",
       "id_comentario                  int64\n",
       "Fecha                 datetime64[ns]\n",
       "id_usuario_comenta             int64\n",
       "dtype: object"
      ]
     },
     "execution_count": 12,
     "metadata": {},
     "output_type": "execute_result"
    }
   ],
   "source": [
    "df_comentarios_renamed.dtypes"
   ]
  },
  {
   "cell_type": "code",
   "execution_count": 13,
   "id": "latest-therapist",
   "metadata": {},
   "outputs": [
    {
     "data": {
      "text/plain": [
       "id_alojamiento        0\n",
       "id_comentario         0\n",
       "Fecha                 0\n",
       "id_usuario_comenta    0\n",
       "dtype: int64"
      ]
     },
     "execution_count": 13,
     "metadata": {},
     "output_type": "execute_result"
    }
   ],
   "source": [
    "df_comentarios_renamed.isna().sum()"
   ]
  },
  {
   "cell_type": "code",
   "execution_count": null,
   "id": "furnished-senator",
   "metadata": {},
   "outputs": [],
   "source": [
    "df_alojamientos = pd.read_csv('Listings_utf8.csv')"
   ]
  },
  {
   "cell_type": "code",
   "execution_count": null,
   "id": "unusual-knock",
   "metadata": {},
   "outputs": [],
   "source": [
    "df_alojamientos.head()"
   ]
  },
  {
   "cell_type": "code",
   "execution_count": null,
   "id": "abroad-monster",
   "metadata": {},
   "outputs": [],
   "source": [
    "df_alojamientos['host_response_time'] = df_alojamientos['host_response_time'].fillna('Unknown')\n",
    "df_alojamientos['host_response_rate'] = df_alojamientos['host_response_rate'].fillna(0)\n",
    "df_alojamientos['host_acceptance_rate'] = df_alojamientos['host_acceptance_rate'].fillna(0)"
   ]
  },
  {
   "cell_type": "code",
   "execution_count": null,
   "id": "portable-medication",
   "metadata": {},
   "outputs": [],
   "source": [
    "df_alojamientos.head()"
   ]
  },
  {
   "cell_type": "code",
   "execution_count": null,
   "id": "restricted-locator",
   "metadata": {},
   "outputs": [],
   "source": [
    "df_alojamientos.shape"
   ]
  },
  {
   "cell_type": "code",
   "execution_count": null,
   "id": "peaceful-paper",
   "metadata": {},
   "outputs": [],
   "source": [
    "df_alojamientos.isna().sum()"
   ]
  },
  {
   "cell_type": "code",
   "execution_count": null,
   "id": "capital-cinema",
   "metadata": {},
   "outputs": [],
   "source": [
    "df_alojamientos.shape"
   ]
  },
  {
   "cell_type": "code",
   "execution_count": null,
   "id": "standing-fighter",
   "metadata": {},
   "outputs": [],
   "source": [
    "df_alojamientos['name'] = df_alojamientos['name'].fillna('Unknown')\n",
    "df_alojamientos['district'] = df_alojamientos['district'].fillna('Unknown')"
   ]
  },
  {
   "cell_type": "code",
   "execution_count": null,
   "id": "private-american",
   "metadata": {},
   "outputs": [],
   "source": [
    "df_alojamientos_no_nans = df_alojamientos.dropna(axis=0, how='any')"
   ]
  },
  {
   "cell_type": "code",
   "execution_count": null,
   "id": "contained-business",
   "metadata": {
    "scrolled": true
   },
   "outputs": [],
   "source": [
    "df_alojamientos_no_nans.isna().sum()"
   ]
  },
  {
   "cell_type": "code",
   "execution_count": null,
   "id": "competitive-debate",
   "metadata": {},
   "outputs": [],
   "source": [
    "df_alojamientos_no_nans.shape"
   ]
  },
  {
   "cell_type": "code",
   "execution_count": null,
   "id": "retired-essay",
   "metadata": {},
   "outputs": [],
   "source": [
    "df_alojamientos_no_nans.dtypes"
   ]
  },
  {
   "cell_type": "code",
   "execution_count": null,
   "id": "supported-honor",
   "metadata": {},
   "outputs": [],
   "source": [
    "df_alojamientos_no_nans = df_alojamientos_no_nans.drop(['host_has_profile_pic', 'review_scores_rating'], axis = 1)"
   ]
  },
  {
   "cell_type": "code",
   "execution_count": null,
   "id": "appointed-vienna",
   "metadata": {},
   "outputs": [],
   "source": [
    "# Renombrando columnas\n",
    "column_name_mapping = {\n",
    "    'listing_id'                  : 'id_alojamiento',\n",
    "    'name'                        : 'nombre',\n",
    "    'host_id'                     : 'id_anfitrion',\n",
    "    'host_since'                  : 'fecha_inicio_anfitrion',\n",
    "    'host_location'               : 'localizacion_anfitrion',\n",
    "    'host_response_time'          : 'tiempo_respuesta_anfitrion',\n",
    "    'host_response_rate'          : 'tasa_respuesta_anfitrion',\n",
    "    'host_acceptance_rate'        : 'tasa_aceptacion_anfitrion',\n",
    "    'host_is_superhost'           : 'superanfitrion',\n",
    "    'host_total_listings_count'   : 'total_alojamientos_anfitrion',\n",
    "    'host_identity_verified'      : 'identidad_verificada_anfitrion',\n",
    "    'neighbourhood'               : 'vecindario',\n",
    "    'district'                    : 'distrito',\n",
    "    'city'                        : 'ciudad',\n",
    "    'latitude'                    : 'latitud',\n",
    "    'longitude'                   : 'longitud',\n",
    "    'property_type'               : 'tipo_propiedad',\n",
    "    'room_type'                   : 'tipo_habitacion',\n",
    "    'accommodates'                : 'num_huespedes',\n",
    "    'bedrooms'                    : 'num_habitaciones',\n",
    "    'amenities'                   : 'amenidades',\n",
    "    'price'                       : 'precio',\n",
    "    'minimum_nights'              : 'num_minimo_noches',\n",
    "    'maximum_nights'              : 'num_maximo_noches',\n",
    "    'review_scores_accuracy'      : 'calificacion_exactitud_anuncio',\n",
    "    'review_scores_cleanliness'   : 'calificacion_comentarios_limpieza' ,\n",
    "    'review_scores_checkin'       : 'calificacion_comentarios_entrada',\n",
    "    'review_scores_communication' : 'calificacion_comentarios_comunicacion',\n",
    "    'review_scores_location'      : 'calificacion_comentarios_localizacion',\n",
    "    'review_scores_value'         : 'calificacion_total_comentarios',\n",
    "    'instant_bookable'            : 'reservacion_instantanea'\n",
    "}"
   ]
  },
  {
   "cell_type": "code",
   "execution_count": null,
   "id": "dress-valentine",
   "metadata": {},
   "outputs": [],
   "source": [
    "df_alojamientos_clean = df_alojamientos_no_nans.rename(columns=column_name_mapping)\n",
    "df_alojamientos_clean.head()"
   ]
  },
  {
   "cell_type": "code",
   "execution_count": null,
   "id": "major-wheel",
   "metadata": {},
   "outputs": [],
   "source": [
    "df_alojamientos_clean.dtypes"
   ]
  },
  {
   "cell_type": "code",
   "execution_count": null,
   "id": "wrong-error",
   "metadata": {},
   "outputs": [],
   "source": [
    "# Cambio el tipo de dato de object a datetime\n",
    "df_alojamientos_clean['fecha_inicio_anfitrion'] = pd.to_datetime(df_alojamientos_clean['fecha_inicio_anfitrion'])"
   ]
  },
  {
   "cell_type": "code",
   "execution_count": null,
   "id": "lightweight-method",
   "metadata": {},
   "outputs": [],
   "source": [
    "df_alojamientos_clean.head()"
   ]
  },
  {
   "cell_type": "code",
   "execution_count": null,
   "id": "legendary-drink",
   "metadata": {},
   "outputs": [],
   "source": [
    "sum(df_alojamientos_clean['tasa_aceptacion_anfitrion']==0)"
   ]
  },
  {
   "cell_type": "code",
   "execution_count": null,
   "id": "protecting-exemption",
   "metadata": {},
   "outputs": [],
   "source": [
    "df_alojamientos_filtrado= df_alojamientos_clean.loc[df_alojamientos_clean['tasa_aceptacion_anfitrion'] > 0]"
   ]
  },
  {
   "cell_type": "code",
   "execution_count": null,
   "id": "fantastic-chrome",
   "metadata": {},
   "outputs": [],
   "source": [
    "df_alojamientos_clean.shape"
   ]
  },
  {
   "cell_type": "code",
   "execution_count": null,
   "id": "progressive-politics",
   "metadata": {},
   "outputs": [],
   "source": [
    "def get_year(valor):\n",
    "    return valor.year"
   ]
  },
  {
   "cell_type": "code",
   "execution_count": null,
   "id": "lined-contamination",
   "metadata": {},
   "outputs": [],
   "source": [
    "# Se agrega el campo Anio\n",
    "df_alojamientos_filtrado['Anio'] = df_alojamientos_filtrado['fecha_inicio_anfitrion'].apply(get_year)"
   ]
  },
  {
   "cell_type": "code",
   "execution_count": null,
   "id": "wrong-retro",
   "metadata": {},
   "outputs": [],
   "source": [
    "df_alojamientos_filtrado.shape"
   ]
  },
  {
   "cell_type": "code",
   "execution_count": null,
   "id": "artificial-thinking",
   "metadata": {},
   "outputs": [],
   "source": [
    "df_alojamientos_filtrado.tail()"
   ]
  },
  {
   "cell_type": "code",
   "execution_count": null,
   "id": "cutting-genius",
   "metadata": {},
   "outputs": [],
   "source": [
    "df_alojamientos_filtrado.to_csv('alojamientos_limpio.csv', index = False)"
   ]
  },
  {
   "cell_type": "code",
   "execution_count": null,
   "id": "baking-arbitration",
   "metadata": {},
   "outputs": [],
   "source": [
    "df_comentarios_renamed.to_csv('comentarios_limpio.csv', index = False)"
   ]
  },
  {
   "cell_type": "code",
   "execution_count": 14,
   "id": "changed-variance",
   "metadata": {},
   "outputs": [
    {
     "data": {
      "text/plain": [
       "id_alojamiento\n",
       "17222007    891\n",
       "8637229     828\n",
       "1249964     796\n",
       "32011332    762\n",
       "2399029     754\n",
       "           ... \n",
       "32050172      1\n",
       "32051876      1\n",
       "32052205      1\n",
       "32052347      1\n",
       "48263869      1\n",
       "Length: 193556, dtype: int64"
      ]
     },
     "execution_count": 14,
     "metadata": {},
     "output_type": "execute_result"
    }
   ],
   "source": [
    "# Agrupado de comentarios por alojamiento\n",
    "df_comentarios_x_alojamiento = df_comentarios_renamed.groupby('id_alojamiento').size()\n",
    "df_comentarios_x_alojamiento.sort_values(ascending=False)"
   ]
  },
  {
   "cell_type": "code",
   "execution_count": 15,
   "id": "cosmetic-closure",
   "metadata": {},
   "outputs": [],
   "source": [
    "df_comentarios_x_alojamiento.to_csv('comentarios_x_alojamiento.csv', index = False)"
   ]
  },
  {
   "cell_type": "code",
   "execution_count": null,
   "id": "beginning-seeker",
   "metadata": {},
   "outputs": [],
   "source": []
  }
 ],
 "metadata": {
  "kernelspec": {
   "display_name": "Python 3",
   "language": "python",
   "name": "python3"
  },
  "language_info": {
   "codemirror_mode": {
    "name": "ipython",
    "version": 3
   },
   "file_extension": ".py",
   "mimetype": "text/x-python",
   "name": "python",
   "nbconvert_exporter": "python",
   "pygments_lexer": "ipython3",
   "version": "3.9.2"
  }
 },
 "nbformat": 4,
 "nbformat_minor": 5
}
