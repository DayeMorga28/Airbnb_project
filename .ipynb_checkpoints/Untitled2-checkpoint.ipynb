{
 "cells": [
  {
   "cell_type": "code",
   "execution_count": null,
   "id": "prospective-agenda",
   "metadata": {},
   "outputs": [],
   "source": [
    "##################################################################################\n",
    "#                               A I R B N B                                      #\n",
    "#                                                                                #\n",
    "#                      Análisis de datos exploratorio                            #\n",
    "##################################################################################"
   ]
  },
  {
   "cell_type": "code",
   "execution_count": null,
   "id": "interracial-patrol",
   "metadata": {},
   "outputs": [],
   "source": [
    "# Carga de librerias\n",
    "import pandas as pd\n",
    "import numpy as np"
   ]
  },
  {
   "cell_type": "markdown",
   "id": "variable-settle",
   "metadata": {},
   "source": [
    "# Carga de comentarios"
   ]
  },
  {
   "cell_type": "code",
   "execution_count": null,
   "id": "infectious-sucking",
   "metadata": {},
   "outputs": [],
   "source": [
    "df_comentarios = pd.read_csv('Reviews.csv')\n",
    "df_comentarios.head()"
   ]
  },
  {
   "cell_type": "code",
   "execution_count": null,
   "id": "banned-monaco",
   "metadata": {},
   "outputs": [],
   "source": [
    "# Renombrando columnas\n",
    "column_name_mapping = {\n",
    "    'listing_id' : 'id_alojamiento',\n",
    "    'review_id'  : 'id_comentario',\n",
    "    'date'       : 'Fecha',\n",
    "    'reviewer_id': 'id_usuario_comenta'\n",
    "}"
   ]
  },
  {
   "cell_type": "code",
   "execution_count": null,
   "id": "vital-smell",
   "metadata": {},
   "outputs": [],
   "source": [
    "df_comentarios_renamed = df_comentarios.rename(columns=column_name_mapping)\n",
    "df_comentarios_renamed.head()"
   ]
  },
  {
   "cell_type": "code",
   "execution_count": null,
   "id": "incredible-armenia",
   "metadata": {},
   "outputs": [],
   "source": [
    "df_comentarios.dtypes"
   ]
  },
  {
   "cell_type": "code",
   "execution_count": null,
   "id": "literary-agreement",
   "metadata": {},
   "outputs": [],
   "source": [
    "# Cambio el tipo de dato de object a datetime\n",
    "df_comentarios_renamed['Fecha'] = pd.to_datetime(df_comentarios_renamed['Fecha'])\n",
    "df_comentarios_renamed.head()"
   ]
  },
  {
   "cell_type": "code",
   "execution_count": null,
   "id": "breeding-booking",
   "metadata": {},
   "outputs": [],
   "source": [
    "df_comentarios_renamed.isna().sum()"
   ]
  },
  {
   "cell_type": "markdown",
   "id": "vital-stockholm",
   "metadata": {},
   "source": [
    "# Carga de información de alojamientos"
   ]
  },
  {
   "cell_type": "code",
   "execution_count": null,
   "id": "colored-korea",
   "metadata": {},
   "outputs": [],
   "source": [
    "df_alojamientos = pd.read_csv('Listings_utf8.csv')\n",
    "df_alojamientos.head()"
   ]
  },
  {
   "cell_type": "code",
   "execution_count": null,
   "id": "abroad-slovakia",
   "metadata": {},
   "outputs": [],
   "source": [
    "df_alojamientos['host_response_time'] = df_alojamientos['host_response_time'].fillna('Unknown')\n",
    "df_alojamientos['host_response_rate'] = df_alojamientos['host_response_rate'].fillna(0)\n",
    "df_alojamientos['host_acceptance_rate'] = df_alojamientos['host_acceptance_rate'].fillna(0)\n",
    "df_alojamientos.head()"
   ]
  },
  {
   "cell_type": "code",
   "execution_count": null,
   "id": "according-retention",
   "metadata": {},
   "outputs": [],
   "source": [
    "df_alojamientos.shape"
   ]
  },
  {
   "cell_type": "code",
   "execution_count": null,
   "id": "pacific-kitty",
   "metadata": {},
   "outputs": [],
   "source": [
    "df_alojamientos['name'] = df_alojamientos['name'].fillna('Unknown')\n",
    "df_alojamientos['district'] = df_alojamientos['district'].fillna('Unknown')"
   ]
  },
  {
   "cell_type": "code",
   "execution_count": null,
   "id": "mexican-merit",
   "metadata": {},
   "outputs": [],
   "source": [
    "df_alojamientos_no_nans = df_alojamientos.dropna(axis=0, how='any')"
   ]
  },
  {
   "cell_type": "code",
   "execution_count": null,
   "id": "proper-details",
   "metadata": {},
   "outputs": [],
   "source": [
    "df_alojamientos.isna().sum()"
   ]
  },
  {
   "cell_type": "code",
   "execution_count": null,
   "id": "northern-system",
   "metadata": {},
   "outputs": [],
   "source": [
    "df_alojamientos_no_nans.shape"
   ]
  },
  {
   "cell_type": "code",
   "execution_count": null,
   "id": "clinical-miami",
   "metadata": {},
   "outputs": [],
   "source": [
    "df_alojamientos_no_nans.dtypes"
   ]
  },
  {
   "cell_type": "code",
   "execution_count": null,
   "id": "juvenile-canada",
   "metadata": {},
   "outputs": [],
   "source": [
    "df_alojamientos_no_nans = df_alojamientos_no_nans.drop(['host_has_profile_pic', 'review_scores_rating'], axis = 1)"
   ]
  },
  {
   "cell_type": "code",
   "execution_count": null,
   "id": "departmental-jonathan",
   "metadata": {},
   "outputs": [],
   "source": [
    "# Renombrando columnas\n",
    "column_name_mapping = {\n",
    "    'listing_id'                  : 'id_alojamiento',\n",
    "    'name'                        : 'nombre',\n",
    "    'host_id'                     : 'id_anfitrion',\n",
    "    'host_since'                  : 'fecha_inicio_anfitrion',\n",
    "    'host_location'               : 'localizacion_anfitrion',\n",
    "    'host_response_time'          : 'tiempo_respuesta_anfitrion',\n",
    "    'host_response_rate'          : 'tasa_respuesta_anfitrion',\n",
    "    'host_acceptance_rate'        : 'tasa_aceptacion_anfitrion',\n",
    "    'host_is_superhost'           : 'superanfitrion',\n",
    "    'host_total_listings_count'   : 'total_alojamientos_anfitrion',\n",
    "    'host_identity_verified'      : 'identidad_verificada_anfitrion',\n",
    "    'neighbourhood'               : 'vecindario',\n",
    "    'district'                    : 'distrito',\n",
    "    'city'                        : 'ciudad',\n",
    "    'latitude'                    : 'latitud',\n",
    "    'longitude'                   : 'longitud',\n",
    "    'property_type'               : 'tipo_propiedad',\n",
    "    'room_type'                   : 'tipo_habitacion',\n",
    "    'accommodates'                : 'num_huespedes',\n",
    "    'bedrooms'                    : 'num_habitaciones',\n",
    "    'amenities'                   : 'amenidades',\n",
    "    'price'                       : 'precio',\n",
    "    'minimum_nights'              : 'num_minimo_noches',\n",
    "    'maximum_nights'              : 'num_maximo_noches',\n",
    "    'review_scores_accuracy'      : 'calificacion_exactitud_anuncio',\n",
    "    'review_scores_cleanliness'   : 'calificacion_comentarios_limpieza' ,\n",
    "    'review_scores_checkin'       : 'calificacion_comentarios_entrada',\n",
    "    'review_scores_communication' : 'calificacion_comentarios_comunicacion',\n",
    "    'review_scores_location'      : 'calificacion_comentarios_localizacion',\n",
    "    'review_scores_value'         : 'calificacion_total_comentarios',\n",
    "    'instant_bookable'            : 'reservacion_instantanea'\n",
    "}"
   ]
  },
  {
   "cell_type": "code",
   "execution_count": null,
   "id": "alone-manual",
   "metadata": {},
   "outputs": [],
   "source": [
    "df_alojamientos_clean = df_alojamientos_no_nans.rename(columns=column_name_mapping)\n",
    "df_alojamientos_clean.head()"
   ]
  },
  {
   "cell_type": "code",
   "execution_count": null,
   "id": "authentic-button",
   "metadata": {},
   "outputs": [],
   "source": [
    "df_alojamientos_clean.dtypes"
   ]
  },
  {
   "cell_type": "code",
   "execution_count": null,
   "id": "painted-sellers",
   "metadata": {},
   "outputs": [],
   "source": [
    "df_alojamientos_clean['fecha_inicio_anfitrion'] = pd.to_datetime(df_alojamientos_clean['fecha_inicio_anfitrion'])"
   ]
  },
  {
   "cell_type": "code",
   "execution_count": null,
   "id": "ideal-excess",
   "metadata": {},
   "outputs": [],
   "source": [
    "sum(df_alojamientos_clean['tasa_aceptacion_anfitrion']==0)"
   ]
  },
  {
   "cell_type": "code",
   "execution_count": null,
   "id": "racial-estimate",
   "metadata": {},
   "outputs": [],
   "source": [
    "df_alojamientos_filtrado= df_alojamientos_clean.loc[df_alojamientos_clean['tasa_aceptacion_anfitrion'] > 0]"
   ]
  },
  {
   "cell_type": "code",
   "execution_count": null,
   "id": "realistic-combat",
   "metadata": {},
   "outputs": [],
   "source": [
    "df_alojamientos_clean.shape"
   ]
  },
  {
   "cell_type": "code",
   "execution_count": null,
   "id": "three-navigator",
   "metadata": {},
   "outputs": [],
   "source": [
    "def get_year(valor):\n",
    "    return valor.year"
   ]
  },
  {
   "cell_type": "code",
   "execution_count": null,
   "id": "operational-nickname",
   "metadata": {},
   "outputs": [],
   "source": [
    "# Se agrega el campo Anio\n",
    "df_alojamientos_filtrado['Anio'] = df_alojamientos_filtrado['fecha_inicio_anfitrion'].apply(get_year)"
   ]
  },
  {
   "cell_type": "code",
   "execution_count": null,
   "id": "alpha-collective",
   "metadata": {},
   "outputs": [],
   "source": [
    "df_alojamientos_filtrado.shape"
   ]
  },
  {
   "cell_type": "code",
   "execution_count": null,
   "id": "indian-registrar",
   "metadata": {},
   "outputs": [],
   "source": [
    "#Se agrega el campo precio en dolares"
   ]
  },
  {
   "cell_type": "code",
   "execution_count": 1,
   "id": "cheap-istanbul",
   "metadata": {},
   "outputs": [
    {
     "ename": "IndentationError",
     "evalue": "expected an indented block (<ipython-input-1-1e11494f866d>, line 3)",
     "output_type": "error",
     "traceback": [
      "\u001b[1;36m  File \u001b[1;32m\"<ipython-input-1-1e11494f866d>\"\u001b[1;36m, line \u001b[1;32m3\u001b[0m\n\u001b[1;33m    elif ciudad = 'Paris':\u001b[0m\n\u001b[1;37m    ^\u001b[0m\n\u001b[1;31mIndentationError\u001b[0m\u001b[1;31m:\u001b[0m expected an indented block\n"
     ]
    }
   ],
   "source": [
    "def get_precio_dolar(ciudad, precio):\n",
    "    if ciudad == 'Rome':\n",
    "        return (precio/0.85)\n",
    "    elif ciudad = 'Paris':\n",
    "        return (precio/0.85)\n",
    "    elif ciudad = 'Mexico City':\n",
    "        return (precio/20)\n",
    "    elif ciudad = 'Sydney':\n",
    "        return (precio * 0.73)\n",
    "    elif ciudad = 'Rio de Janeiro':\n",
    "    elif ciudad = 'Cape Town':\n",
    "    elif ciudad = 'Bangkok':\n",
    "    elif ciudad = 'Istanbul':\n",
    "    elif ciudad = 'Hong Kong':\n",
    "    else:\n",
    "        return precio;\n"
   ]
  },
  {
   "cell_type": "code",
   "execution_count": null,
   "id": "packed-projection",
   "metadata": {},
   "outputs": [],
   "source": []
  },
  {
   "cell_type": "code",
   "execution_count": null,
   "id": "after-specialist",
   "metadata": {},
   "outputs": [],
   "source": [
    "df_alojamientos_filtrado.tail()"
   ]
  },
  {
   "cell_type": "markdown",
   "id": "southwest-jumping",
   "metadata": {},
   "source": [
    "# Creacion de tabla donde se combinan comentarios y alojamientos"
   ]
  },
  {
   "cell_type": "code",
   "execution_count": null,
   "id": "creative-juice",
   "metadata": {},
   "outputs": [],
   "source": [
    "df_comentarios_merge = pd.merge(df_comentarios_renamed,df_alojamientos_filtrado, left_on='id_alojamiento', right_index=True).sort_index()\n",
    "df_comentarios_merge"
   ]
  },
  {
   "cell_type": "code",
   "execution_count": null,
   "id": "direct-beaver",
   "metadata": {},
   "outputs": [],
   "source": [
    "df_comentarios_merge.dtypes"
   ]
  },
  {
   "cell_type": "code",
   "execution_count": null,
   "id": "tough-concern",
   "metadata": {},
   "outputs": [],
   "source": [
    "df_comentarios_merge.to_csv('comentarios_merge.csv', index = False)"
   ]
  },
  {
   "cell_type": "code",
   "execution_count": null,
   "id": "endless-witch",
   "metadata": {},
   "outputs": [],
   "source": []
  },
  {
   "cell_type": "code",
   "execution_count": null,
   "id": "prerequisite-rehabilitation",
   "metadata": {},
   "outputs": [],
   "source": []
  }
 ],
 "metadata": {
  "kernelspec": {
   "display_name": "Python 3",
   "language": "python",
   "name": "python3"
  },
  "language_info": {
   "codemirror_mode": {
    "name": "ipython",
    "version": 3
   },
   "file_extension": ".py",
   "mimetype": "text/x-python",
   "name": "python",
   "nbconvert_exporter": "python",
   "pygments_lexer": "ipython3",
   "version": "3.9.2"
  }
 },
 "nbformat": 4,
 "nbformat_minor": 5
}
